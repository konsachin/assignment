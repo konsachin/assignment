{
 "cells": [
  {
   "cell_type": "markdown",
   "id": "a1e6deb1-e096-4fc1-9992-77896d2552bc",
   "metadata": {},
   "source": [
    "Q1. What is MongoDB? Explain non-relational databases in short. In which scenarios it is preferred to use MongoDB over SQL databases?\n",
    "\n",
    "MongoDB is a popular document-oriented NoSQL database that provides high scalability, flexibility, and performance for managing and storing large amounts of unstructured or semi-structured data. Unlike traditional SQL databases, MongoDB is classified as a non-relational database, also known as a NoSQL database. Here's a brief explanation of non-relational databases:\n",
    "\n",
    "Non-relational databases, or NoSQL databases, are a type of database management system that diverges from the traditional relational database model. They are designed to handle large volumes of unstructured or semi-structured data and offer flexible schemas. Instead of using tables and fixed schemas, NoSQL databases use various data models, such as key-value, document, columnar, or graph, to store and retrieve data.\n",
    "\n",
    "Non-relational databases are preferred in scenarios where:\n",
    "\n",
    "!)Handling large-scale data: NoSQL databases are designed to handle massive amounts of data distributed across multiple servers. They provide horizontal scalability, allowing for easy expansion as data volume increases.\n",
    "\n",
    "2)Flexibility in data structure: NoSQL databases allow for flexible schemas, meaning that data does not need to adhere to a predefined structure. This flexibility is beneficial when dealing with unstructured or semi-structured data, as the schema can evolve over time without requiring alterations to existing data.\n",
    "\n",
    "MongoDB, in particular, is preferred over SQL databases in the following scenarios:\n",
    "\n",
    "1)Unstructured or semi-structured data: \n",
    "2)Rapid prototyping and agile development:\n",
    "3)Big data and real-time analytics:\n",
    "4)High traffic and scalability:"
   ]
  },
  {
   "cell_type": "markdown",
   "id": "1133df9c-3007-4be6-b08c-49c0f1d0a0b2",
   "metadata": {},
   "source": [
    "Q2. State and Explain the features of MongoDB.\n",
    "\n",
    "1)Document-Oriented Model:\n",
    "MongoDB is built on a document-oriented data model, where data is stored in flexible, self-contained documents using the BSON (Binary JSON) format. These documents can have varying structures, allowing for easy storage of unstructured or semi-structured data.\n",
    "\n",
    "2)Dynamic Schema:\n",
    "MongoDB has a dynamic schema, which means that each document in a collection can have its own unique structure. This flexibility allows for easy evolution of the data model over time without requiring modifications to existing data.\n",
    "\n",
    "3)Scalability and High Performance:\n",
    "MongoDB is designed to scale horizontally across multiple servers. It supports automatic sharding, which enables the distribution of data across multiple machines. This horizontal scaling ensures high performance and the ability to handle large amounts of data and high traffic loads.\n",
    "\n",
    "4)Replica Sets:\n",
    "MongoDB offers replica sets, which are self-healing clusters of database nodes. Replica sets provide redundancy and high availability by automatically maintaining multiple copies of data across different servers. If one server fails, a replica set can elect a new primary server to continue serving data.\n",
    "\n",
    "5)Flexible Query Language:\n",
    "MongoDB's query language provides rich and expressive capabilities for querying and filtering data. It supports a wide range of operators, such as comparison, logical, and text search operators, enabling complex queries and ad-hoc data retrieval.\n",
    "\n",
    "6)Indexing:\n",
    "MongoDB supports various types of indexes, including single-field, compound, multi-key, geospatial, and text indexes. Indexes enhance query performance by allowing the database to efficiently locate and retrieve data based on specific fields.\n",
    "\n",
    "7)Aggregation Framework:\n",
    "MongoDB's Aggregation Framework provides powerful tools for data aggregation and processing. It allows for complex data transformations, grouping, filtering, and calculations within the database, reducing the need for client-side processing.\n",
    "\n",
    "8)Full-text Search:\n",
    "MongoDB includes a built-in full-text search engine that enables efficient text search across large collections of data. It supports features like stemming, text analysis, relevance ranking, and indexing of text fields.\n",
    "\n",
    "9)Geospatial Capabilities:\n",
    "MongoDB offers geospatial indexing and queries, allowing you to store and query geospatial data like coordinates, shapes, and proximity-based searches. This feature is valuable for location-based applications and spatial analysis.\n",
    "\n",
    "10)Flexible Deployment Options:\n",
    "MongoDB can be deployed in various environments, including on-premises, in the cloud (e.g., AWS, Azure, GCP), or as a managed database service. It provides flexibility in choosing the deployment architecture that suits the application's needs."
   ]
  },
  {
   "cell_type": "markdown",
   "id": "6193a227-a531-4fb2-8093-af092612e887",
   "metadata": {},
   "source": [
    "Q3. Write a code to connect MongoDB to Python. Also, create a database and a collection in MongoDB.\n",
    "\n",
    "import pymongo\n",
    "\n",
    "\n",
    "client = pymongo.MongoClient(\"mongodb://localhost:27017/\")  # Replace with your MongoDB connection string\n",
    "\n",
    "\n",
    "database = client[\"your_database_name\"]  # Replace with your desired database name\n",
    "\n",
    "\n",
    "collection = database[\"your_collection_name\"]  # Replace with your desired collection name\n",
    "\n",
    "\n",
    "document = {\"name\": \"John\", \"age\": 30, \"city\": \"New York\"}\n",
    "collection.insert_one(document)\n",
    "\n",
    "\n",
    "client.close()\n"
   ]
  },
  {
   "cell_type": "markdown",
   "id": "456fc3c7-e6de-47c9-8d77-09da1e282085",
   "metadata": {},
   "source": [
    "Q4. Using the database and the collection created in question number 3, write a code to insert one record,and insert many records. Use the find() and find_one() methods to print the inserted record."
   ]
  },
  {
   "cell_type": "markdown",
   "id": "1db3cf00-ee39-4174-b161-416228973580",
   "metadata": {},
   "source": [
    "Q5. Explain how you can use the find() method to query the MongoDB database. Write a simple code to demonstrate this.\n",
    "\n",
    "The find() method in MongoDB allows you to query the database to retrieve documents that match specific criteria. It is used to perform searches and retrieve data from a collection based on the specified query parameters.\n",
    "\n",
    "import pymongo\n",
    "\n",
    "\n",
    "client = pymongo.MongoClient(\"mongodb://localhost:27017/\")\n",
    "database = client[\"your_database_name\"]\n",
    "collection = database[\"your_collection_name\"]\n",
    "\n",
    "\n",
    "query = {\"city\": \"London\"}\n",
    "result = collection.find(query)\n",
    "\n",
    "\n",
    "for document in result:\n",
    "    print(document)\n",
    "\n",
    "\n",
    "client.close()\n",
    "\n"
   ]
  },
  {
   "cell_type": "markdown",
   "id": "dc738839-2874-4712-bf2b-16521d318c14",
   "metadata": {},
   "source": [
    "Q6. Explain the sort() method. Give an example to demonstrate sorting in MongoDB.\n",
    "\n",
    "The sort() method in MongoDB can be applied to a cursor object returned by a query. It takes a parameter that specifies the sorting criteria. This parameter can be a single field or a combination of multiple fields, along with the sorting order.\n",
    "\n",
    "The basic syntax for using the sort() method in MongoDB is as follows:\n",
    "\n",
    "collection.find().sort(field_name, sort_order)\n",
    "\n",
    "Here's an example that demonstrates sorting in MongoDB:\n",
    "\n",
    "import pymongo\n",
    "\n",
    "\n",
    "client = pymongo.MongoClient(\"mongodb://localhost:27017/\")\n",
    "database = client[\"your_database_name\"]\n",
    "collection = database[\"your_collection_name\"]\n",
    "\n",
    "\n",
    "query = {\"city\": \"London\"}\n",
    "result = collection.find(query).sort(\"name\", pymongo.ASCENDING)\n",
    "\n",
    "\n",
    "for document in result:\n",
    "    print(document)\n",
    "\n",
    "\n",
    "client.close()\n",
    "\n"
   ]
  },
  {
   "cell_type": "markdown",
   "id": "abd58e91-400a-4575-8ab6-95ea460ec447",
   "metadata": {},
   "source": [
    "Q7. Explain why delete_one(), delete_many(), and drop() is used."
   ]
  }
 ],
 "metadata": {
  "kernelspec": {
   "display_name": "Python 3 (ipykernel)",
   "language": "python",
   "name": "python3"
  },
  "language_info": {
   "codemirror_mode": {
    "name": "ipython",
    "version": 3
   },
   "file_extension": ".py",
   "mimetype": "text/x-python",
   "name": "python",
   "nbconvert_exporter": "python",
   "pygments_lexer": "ipython3",
   "version": "3.10.8"
  }
 },
 "nbformat": 4,
 "nbformat_minor": 5
}
