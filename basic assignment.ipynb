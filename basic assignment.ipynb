{
 "cells": [
  {
   "cell_type": "markdown",
   "id": "ff0f2901-d23a-494a-9927-e8d933b649bb",
   "metadata": {},
   "source": [
    "Q1. Create one variable containing following type of data:\n",
    "(i) string\n",
    "(ii) list\n",
    "(iii) float\n",
    "(iv) tuple"
   ]
  },
  {
   "cell_type": "code",
   "execution_count": 1,
   "id": "911c58aa-30ea-4111-b320-8f24761c7146",
   "metadata": {},
   "outputs": [],
   "source": [
    "my_string = \"Hello, World!\"\n",
    "my_list = [1,2,3,]\n",
    "my_float = 3.14\n",
    "my_tuple = (6, 7, 8, 9, 10)\n"
   ]
  },
  {
   "cell_type": "markdown",
   "id": "950d7155-f8aa-4725-a7d2-7a10db4e838c",
   "metadata": {},
   "source": [
    "Q2. Given are some following variables containing data:\n",
    "(i) var1 = ‘ ‘\n",
    "(ii) var2 = ‘[ DS , ML , Python]’\n",
    "(iii) var3 = [ ‘DS’ , ’ML’ , ‘Python’ ]\n",
    "(iv) var4 = 1."
   ]
  },
  {
   "cell_type": "code",
   "execution_count": 3,
   "id": "8d39319f-6f52-4f27-9f13-f9094e594bc0",
   "metadata": {},
   "outputs": [],
   "source": [
    "var2 = '[DS, ML, Python]'\n"
   ]
  },
  {
   "cell_type": "markdown",
   "id": "30621adb-8e75-40ba-897a-c31330f7b3af",
   "metadata": {},
   "source": [
    "Q3. Explain the use of the following operators using an example:\n",
    "(i) /\n",
    "(ii) %\n",
    "(iii) //\n",
    "(iv) **"
   ]
  },
  {
   "cell_type": "code",
   "execution_count": 4,
   "id": "9d3b6ca6-ca25-4e4e-9b92-6973fe8bb9db",
   "metadata": {},
   "outputs": [
    {
     "name": "stdout",
     "output_type": "stream",
     "text": [
      "3.3333333333333335\n"
     ]
    }
   ],
   "source": [
    "#(i) / (Division Operator):\n",
    "#The division operator / is used to perform division between two numbers. It returns the quotient as a floating-point number.\n",
    "a = 10\n",
    "b = 3\n",
    "\n",
    "result = a / b\n",
    "\n",
    "print(result)\n",
    "\n",
    "\n"
   ]
  },
  {
   "cell_type": "code",
   "execution_count": 5,
   "id": "19eacf82-71a6-4b56-892b-efc48e8ea1be",
   "metadata": {},
   "outputs": [
    {
     "name": "stdout",
     "output_type": "stream",
     "text": [
      "1\n"
     ]
    }
   ],
   "source": [
    "#(ii) % (Modulo Operator):\n",
    "#The modulo operator % is used to find the remainder of the division between two numbers.\n",
    "\n",
    "a = 10\n",
    "b = 3\n",
    "\n",
    "result = a % b\n",
    "\n",
    "print(result)\n"
   ]
  },
  {
   "cell_type": "code",
   "execution_count": 6,
   "id": "0e7993c9-1876-42a6-801a-ce6aef7b53f4",
   "metadata": {},
   "outputs": [
    {
     "name": "stdout",
     "output_type": "stream",
     "text": [
      "3\n"
     ]
    }
   ],
   "source": [
    "##The floor division operator // is used to perform division between two numbers and return the floor value (rounded down to the nearest integer) of the quotient.\n",
    "\n",
    "a = 10\n",
    "b = 3\n",
    "\n",
    "result = a // b\n",
    "\n",
    "print(result)\n",
    "\n"
   ]
  },
  {
   "cell_type": "code",
   "execution_count": 7,
   "id": "cb71d333-0163-4ef5-8560-fd1a647301d6",
   "metadata": {},
   "outputs": [
    {
     "name": "stdout",
     "output_type": "stream",
     "text": [
      "8\n"
     ]
    }
   ],
   "source": [
    "#(iv) ** (Exponentiation Operator):\n",
    "#The exponentiation operator ** is used to raise a number to a power.\n",
    "\n",
    "a = 2\n",
    "b = 3\n",
    "\n",
    "result = a ** b\n",
    "\n",
    "print(result)\n"
   ]
  },
  {
   "cell_type": "code",
   "execution_count": 8,
   "id": "7d2f8a33-1160-4188-8993-c7e0814bbdd9",
   "metadata": {},
   "outputs": [
    {
     "name": "stdout",
     "output_type": "stream",
     "text": [
      "1 <class 'int'>\n",
      "Hello <class 'str'>\n",
      "3.14 <class 'float'>\n",
      "True <class 'bool'>\n",
      "[1, 2, 3] <class 'list'>\n",
      "{'name': 'John', 'age': 25} <class 'dict'>\n",
      "None <class 'NoneType'>\n",
      "(4, 5, 6) <class 'tuple'>\n",
      "Python <class 'str'>\n",
      "False <class 'bool'>\n"
     ]
    }
   ],
   "source": [
    "#Q4. Create a list of length 10 of your choice containing multiple types of data. Using for loop print the\n",
    "#element and its data type.\n",
    "\n",
    "my_list = [1, \"Hello\", 3.14, True, [1, 2, 3], {\"name\": \"John\", \"age\": 25}, None, (4, 5, 6), \"Python\", False]\n",
    "\n",
    "for element in my_list:\n",
    "    print(element, type(element))\n",
    "\n"
   ]
  },
  {
   "cell_type": "code",
   "execution_count": 9,
   "id": "2709db66-812d-40f6-a39d-8af91153d0ff",
   "metadata": {},
   "outputs": [
    {
     "name": "stdout",
     "output_type": "stream",
     "text": [
      "4 is divisible by 5 and it can be divided 2 times.\n"
     ]
    }
   ],
   "source": [
    "#Q5. Using a while loop, verify if the number A is purely divisible by number B and if so then how many\n",
    "#times it can be divisible.\n",
    "\n",
    "A = 100\n",
    "B = 5\n",
    "count = 0\n",
    "\n",
    "while A % B == 0:\n",
    "    A = A // B\n",
    "    count += 1\n",
    "\n",
    "if count > 0:\n",
    "    print(f\"{A} is divisible by {B} and it can be divided {count} times.\")\n",
    "else:\n",
    "    print(f\"{A} is not divisible by {B}.\")\n",
    "\n"
   ]
  },
  {
   "cell_type": "code",
   "execution_count": 10,
   "id": "d6fe2f7b-9792-46e4-8956-1f9218b2e530",
   "metadata": {},
   "outputs": [],
   "source": [
    "#Q6. Create a list containing 25 int type data. Using for loop and if-else condition print if the element is\n",
    "#divisible by 3 or not."
   ]
  },
  {
   "cell_type": "code",
   "execution_count": 11,
   "id": "93427e26-28bc-44d8-8b93-c96e075914f7",
   "metadata": {},
   "outputs": [
    {
     "name": "stdout",
     "output_type": "stream",
     "text": [
      "12 is divisible by 3.\n",
      "7 is not divisible by 3.\n",
      "18 is divisible by 3.\n",
      "25 is not divisible by 3.\n",
      "36 is divisible by 3.\n",
      "41 is not divisible by 3.\n",
      "9 is divisible by 3.\n",
      "15 is divisible by 3.\n",
      "21 is divisible by 3.\n",
      "33 is divisible by 3.\n",
      "14 is not divisible by 3.\n",
      "27 is divisible by 3.\n",
      "19 is not divisible by 3.\n",
      "30 is divisible by 3.\n",
      "22 is not divisible by 3.\n",
      "42 is divisible by 3.\n",
      "10 is not divisible by 3.\n",
      "5 is not divisible by 3.\n",
      "8 is not divisible by 3.\n",
      "3 is divisible by 3.\n",
      "17 is not divisible by 3.\n",
      "20 is not divisible by 3.\n",
      "38 is not divisible by 3.\n",
      "23 is not divisible by 3.\n",
      "31 is not divisible by 3.\n"
     ]
    }
   ],
   "source": [
    "my_list = [12, 7, 18, 25, 36, 41, 9, 15, 21, 33, 14, 27, 19, 30, 22, 42, 10, 5, 8, 3, 17, 20, 38, 23, 31]\n",
    "\n",
    "for element in my_list:\n",
    "    if element % 3 == 0:\n",
    "        print(f\"{element} is divisible by 3.\")\n",
    "    else:\n",
    "        print(f\"{element} is not divisible by 3.\")\n"
   ]
  },
  {
   "cell_type": "code",
   "execution_count": null,
   "id": "108c2de4-2bef-445c-b72e-9026ff68e10a",
   "metadata": {},
   "outputs": [],
   "source": [
    "Q7. What do you understand about mutable and immutable data types? Give examples for both showing\n",
    "this property."
   ]
  }
 ],
 "metadata": {
  "kernelspec": {
   "display_name": "Python 3 (ipykernel)",
   "language": "python",
   "name": "python3"
  },
  "language_info": {
   "codemirror_mode": {
    "name": "ipython",
    "version": 3
   },
   "file_extension": ".py",
   "mimetype": "text/x-python",
   "name": "python",
   "nbconvert_exporter": "python",
   "pygments_lexer": "ipython3",
   "version": "3.10.8"
  }
 },
 "nbformat": 4,
 "nbformat_minor": 5
}
