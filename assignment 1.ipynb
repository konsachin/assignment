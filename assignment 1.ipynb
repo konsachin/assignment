{
 "cells": [
  {
   "cell_type": "code",
   "execution_count": 4,
   "id": "654c6818-ee81-480c-a6e1-c1cd3a3ad50d",
   "metadata": {},
   "outputs": [],
   "source": [
    "#Q1. Create one variable containing following type of data: (i) string (ii) list (iii) float (iv) tuple\n",
    "var1 = \"string\"\n",
    "var2 = [1,2,3,4,5]\n",
    "var3 = 12.34\n",
    "var4 = (1,2,3,4)"
   ]
  },
  {
   "cell_type": "code",
   "execution_count": 5,
   "id": "9057bfbe-2089-4a55-8554-a2c1fbefdc02",
   "metadata": {},
   "outputs": [
    {
     "name": "stdout",
     "output_type": "stream",
     "text": [
      "<class 'str'>\n",
      "<class 'str'>\n",
      "<class 'list'>\n",
      "<class 'int'>\n"
     ]
    }
   ],
   "source": [
    "#Q2. Given are some following variables containing data: (i) var1 = ‘ ‘ (ii) var2 = ‘[ DS , ML , Python]’ (iii) var3 = [ ‘DS’ , ’ML’ , ‘Python’ ] (iv) var4 = 1.\n",
    "\n",
    "var1 = \"\"\n",
    "var2 = \"[ DS , ML , Python]\"\n",
    "var3 = [ \"DS\" , \"ML\" , \"Python\" ]\n",
    "var4 = 1\n",
    "\n",
    "print(type(var1))\n",
    "print(type(var2))\n",
    "print(type(var3))\n",
    "print(type(var4))"
   ]
  },
  {
   "cell_type": "code",
   "execution_count": null,
   "id": "25763585-f344-401d-8285-bb3da02e42d1",
   "metadata": {},
   "outputs": [],
   "source": [
    "#Q3. Explain the use of the following operators using an example: (i) / (ii) % (iii) // (iv) \n",
    "(/) :- normal division \n",
    "(%) :- shows remainder \n",
    "(a//b) :- shows quotient\n",
    "(**) :- to the power of "
   ]
  },
  {
   "cell_type": "code",
   "execution_count": 6,
   "id": "4df556db-f654-4c2c-8e12-2b110b4f4e96",
   "metadata": {},
   "outputs": [
    {
     "name": "stdout",
     "output_type": "stream",
     "text": [
      "2\n",
      "<class 'int'>\n",
      "3\n",
      "<class 'int'>\n",
      "35\n",
      "<class 'int'>\n",
      "sach\n",
      "<class 'str'>\n",
      "[4, 5, 6]\n",
      "<class 'list'>\n",
      "{8, 9, 0}\n",
      "<class 'set'>\n",
      "{'name': 'sumedh'}\n",
      "<class 'dict'>\n",
      "False\n",
      "<class 'bool'>\n",
      "(8+3j)\n",
      "<class 'complex'>\n",
      "(1, 2, 3)\n",
      "<class 'tuple'>\n"
     ]
    }
   ],
   "source": [
    "#Q4. Create a list of length 10 of your choice containing multiple types of data. Using for loop print the element and its data type.\n",
    "l = [2,3,35, \"sach\", [4,5,6], {8,9,0},{\"name\" : \"sumedh\"}, False,8+3j, (1,2,3)]\n",
    "\n",
    "for i in l : \n",
    "    print(i)\n",
    "    print(type(i))"
   ]
  },
  {
   "cell_type": "code",
   "execution_count": 7,
   "id": "d724d9cb-5cd6-4362-8eb4-b6b96d440a7e",
   "metadata": {},
   "outputs": [
    {
     "name": "stdout",
     "output_type": "stream",
     "text": [
      "1 is not divisible by 3\n",
      "2 is not divisible by 3\n",
      " 3 is divisible by 3 \n",
      "4 is not divisible by 3\n",
      "5 is not divisible by 3\n",
      " 6 is divisible by 3 \n",
      "7 is not divisible by 3\n",
      "8 is not divisible by 3\n",
      " 9 is divisible by 3 \n",
      "10 is not divisible by 3\n",
      "11 is not divisible by 3\n",
      " 12 is divisible by 3 \n",
      "13 is not divisible by 3\n",
      "14 is not divisible by 3\n",
      " 15 is divisible by 3 \n",
      "16 is not divisible by 3\n",
      "17 is not divisible by 3\n",
      " 18 is divisible by 3 \n",
      "19 is not divisible by 3\n",
      "20 is not divisible by 3\n",
      " 21 is divisible by 3 \n",
      "22 is not divisible by 3\n",
      "23 is not divisible by 3\n",
      " 24 is divisible by 3 \n",
      "25 is not divisible by 3\n"
     ]
    }
   ],
   "source": [
    "#Q6. Create a list containing 25 int type data. Using for loop and if-else condition print if the element is divisible by 3 or not.\n",
    "\n",
    "l1 = list(range(1,26))\n",
    "for i in l1 : \n",
    "    if (i%3 ==0):\n",
    "        print(f\" {i} is divisible by 3 \")\n",
    "    else : \n",
    "        print(f\"{i} is not divisible by 3\")"
   ]
  },
  {
   "cell_type": "code",
   "execution_count": 8,
   "id": "eb6c2f3a-7247-4904-bb9b-e4b7a1b7ba7a",
   "metadata": {},
   "outputs": [
    {
     "ename": "TypeError",
     "evalue": "'tuple' object does not support item assignment",
     "output_type": "error",
     "traceback": [
      "\u001b[0;31m---------------------------------------------------------------------------\u001b[0m",
      "\u001b[0;31mTypeError\u001b[0m                                 Traceback (most recent call last)",
      "Cell \u001b[0;32mIn[8], line 7\u001b[0m\n\u001b[1;32m      4\u001b[0m t1 \u001b[38;5;241m=\u001b[39m (\u001b[38;5;241m1\u001b[39m,\u001b[38;5;241m2\u001b[39m,\u001b[38;5;241m4\u001b[39m,\u001b[38;5;241m6\u001b[39m,\u001b[38;5;241m8\u001b[39m,)\n\u001b[1;32m      6\u001b[0m l1[\u001b[38;5;241m4\u001b[39m] \u001b[38;5;241m=\u001b[39m \u001b[38;5;241m99\u001b[39m\n\u001b[0;32m----> 7\u001b[0m \u001b[43mt1\u001b[49m\u001b[43m[\u001b[49m\u001b[38;5;241;43m4\u001b[39;49m\u001b[43m]\u001b[49m \u001b[38;5;241m=\u001b[39m \u001b[38;5;241m99\u001b[39m\n",
      "\u001b[0;31mTypeError\u001b[0m: 'tuple' object does not support item assignment"
     ]
    }
   ],
   "source": [
    "#Q7. What do you understand about mutable and immutable data types? Give examples for both showing this property.\n",
    "\n",
    "l1 = [1,2,4,5,8,10]\n",
    "t1 = (1,2,4,6,8,)\n",
    "\n",
    "l1[4] = 99\n",
    "t1[4] = 99\n"
   ]
  },
  {
   "cell_type": "code",
   "execution_count": 9,
   "id": "5aaf15ba-3814-4ffb-bc45-0c5d81a51bca",
   "metadata": {},
   "outputs": [
    {
     "data": {
      "text/plain": [
       "[1, 2, 4, 5, 99, 10]"
      ]
     },
     "execution_count": 9,
     "metadata": {},
     "output_type": "execute_result"
    }
   ],
   "source": [
    "l1"
   ]
  },
  {
   "cell_type": "code",
   "execution_count": 10,
   "id": "d6698a59-3521-40cd-a688-6aa1da84a12c",
   "metadata": {},
   "outputs": [
    {
     "data": {
      "text/plain": [
       "(1, 2, 4, 6, 8)"
      ]
     },
     "execution_count": 10,
     "metadata": {},
     "output_type": "execute_result"
    }
   ],
   "source": [
    "t1"
   ]
  },
  {
   "cell_type": "code",
   "execution_count": null,
   "id": "6781a266-4d89-4e05-9a85-40f295a82983",
   "metadata": {},
   "outputs": [],
   "source": []
  }
 ],
 "metadata": {
  "kernelspec": {
   "display_name": "Python 3 (ipykernel)",
   "language": "python",
   "name": "python3"
  },
  "language_info": {
   "codemirror_mode": {
    "name": "ipython",
    "version": 3
   },
   "file_extension": ".py",
   "mimetype": "text/x-python",
   "name": "python",
   "nbconvert_exporter": "python",
   "pygments_lexer": "ipython3",
   "version": "3.10.8"
  }
 },
 "nbformat": 4,
 "nbformat_minor": 5
}
