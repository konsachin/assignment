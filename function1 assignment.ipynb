{
 "cells": [
  {
   "cell_type": "code",
   "execution_count": 2,
   "id": "b5b435b2-55fd-4b1e-a6ca-86d4d5fccdb5",
   "metadata": {},
   "outputs": [
    {
     "name": "stdout",
     "output_type": "stream",
     "text": [
      "[1, 3, 5, 7, 9, 11, 13, 15, 17, 19, 21, 23, 25]\n"
     ]
    }
   ],
   "source": [
    "#Q1. Which keyword is used to create a function? Create a function to return a list of odd numbers in the \n",
    "#range of 1 to 25.\n",
    "\n",
    "#The keyword used to create a function in Python is \"def\".\n",
    "\n",
    "def get_odd_numbers():\n",
    "    odd_numbers = []\n",
    "    for num in range(1, 26):\n",
    "        if num % 2 != 0:\n",
    "            odd_numbers.append(num)\n",
    "    return odd_numbers\n",
    "print(get_odd_numbers())\n",
    "    "
   ]
  },
  {
   "cell_type": "code",
   "execution_count": 3,
   "id": "905b5d4c-b274-4045-a270-9a653ce69e3b",
   "metadata": {},
   "outputs": [
    {
     "name": "stdout",
     "output_type": "stream",
     "text": [
      "6\n",
      "100\n"
     ]
    }
   ],
   "source": [
    "#Q2. Why *args and **kwargs is used in some functions? Create a function each for *args and **kwargs \n",
    "#to demonstrate their use\n",
    "\n",
    "#In Python, *args and **kwargs are used to handle variable-length arguments in functions.\n",
    "\n",
    "def sum_numbers(*args):\n",
    "    total = 0\n",
    "    for num in args:\n",
    "        total += num\n",
    "    return total\n",
    "\n",
    "print(sum_numbers(1, 2, 3))     \n",
    "print(sum_numbers(10, 20, 30, 40)) \n"
   ]
  },
  {
   "cell_type": "markdown",
   "id": "65aad17c-84b8-416e-ab8d-5c8a702ac0a5",
   "metadata": {},
   "source": [
    "#Q3.  What is an iterator in python? Name the method used to initialise the iterator object and the method \n",
    "#used for iteration. Use these methods to print the first five elements of the given list [2, 4, 6, 8, 10, 12, 14, \n",
    "#16, 18, 20]\n",
    "\n",
    "To initialize an iterator object, you can use the iter() function in Python. The iter() function takes an iterable object and returns an iterator object. The iterator object keeps track of the current state of iteration."
   ]
  },
  {
   "cell_type": "code",
   "execution_count": 4,
   "id": "e9f158f8-e8d3-4b68-983f-1d9140ec7ee8",
   "metadata": {},
   "outputs": [
    {
     "name": "stdout",
     "output_type": "stream",
     "text": [
      "2\n",
      "4\n",
      "6\n",
      "8\n",
      "10\n"
     ]
    }
   ],
   "source": [
    "my_list = [2, 4, 6, 8, 10, 12, 14, 16, 18, 20]\n",
    "my_iterator = iter(my_list)\n",
    "for _ in range(5):\n",
    "    element = next(my_iterator)\n",
    "    print(element)"
   ]
  },
  {
   "cell_type": "markdown",
   "id": "4d33c3b8-aa3e-4086-a39e-8195161f7de0",
   "metadata": {},
   "source": [
    "Q4.  What is a generator function in python? Why yield keyword is used? Give an example of a generator \n",
    "function\n",
    "\n",
    "In Python, a generator function is a special type of function that generates a sequence of values using the yield keyword. Unlike regular functions that use the return statement to return a value and terminate, generator functions can yield multiple values one at a time and then resume execution from where it left off, allowing them to generate values on the fly."
   ]
  },
  {
   "cell_type": "code",
   "execution_count": null,
   "id": "07a92e33-0e06-430a-8c24-8b1c2fae5062",
   "metadata": {},
   "outputs": [],
   "source": [
    "#example \n",
    "\n",
    "def even_numbers(limit):\n",
    "    num = 0\n",
    "    while num <= limit:\n",
    "        yield num\n",
    "        num += 2\n",
    "        even_generator = even_numbers(10)\n",
    "        for num in even_generator:\n",
    "    print(num)\n",
    "    \n",
    "        "
   ]
  },
  {
   "cell_type": "markdown",
   "id": "5c632dc5-778e-4334-baa9-4eb217d2d8d9",
   "metadata": {},
   "source": [
    "Q5. Create a generator function for prime numbers less than 1000. Use the next() method to print the \n",
    "first 20 prime numbers"
   ]
  },
  {
   "cell_type": "code",
   "execution_count": null,
   "id": "608dae57-3209-4e25-97bd-574187990a00",
   "metadata": {},
   "outputs": [],
   "source": [
    "def prime_generator():\n",
    "    primes = []\n",
    "    num = 2\n",
    "    while True:\n",
    "        if all(num % prime != 0 for prime in primes):\n",
    "            primes.append(num)\n",
    "            yield num\n",
    "        num += 1\n",
    "        \n",
    "prime_gen = prime_generator()\n",
    "for _ in range(20):\n",
    "    prime_num = next(prime_gen)\n",
    "    print(prime_num)\n",
    "        "
   ]
  },
  {
   "cell_type": "markdown",
   "id": "396d9d82-174e-4556-bfac-32463a51b1db",
   "metadata": {},
   "source": [
    "Q6. Write a python program to print the first 10 Fibonacci numbers using a while loop."
   ]
  },
  {
   "cell_type": "code",
   "execution_count": null,
   "id": "a144c114-fa01-4306-afd0-8f964ebda880",
   "metadata": {},
   "outputs": [],
   "source": [
    "# Function to print the first 10 Fibonacci numbers\n",
    "def print_fibonacci():\n",
    "    n = 10  \n",
    "    fib_numbers = [] \n",
    "    fib1, fib2 = 0, 1\n",
    "    fib_numbers.append(fib1)\n",
    "    fib_numbers.append(fib2)\n",
    "     count = 2 \n",
    "         while count < n:\n",
    "        fib_next = fib1 + fib2  \n",
    "        fib_numbers.append(fib_next)\n",
    "\n",
    "        fib1 = fib2\n",
    "        fib2 = fib_next\n",
    "          count += 1\n",
    "            for num in fib_numbers:\n",
    "        print(num)\n",
    "        \n",
    "print_fibonacci()        "
   ]
  },
  {
   "cell_type": "markdown",
   "id": "f1b7d24a-2a8c-44d1-b1ff-3d143c90dd0e",
   "metadata": {},
   "source": [
    "Q7. Write a List Comprehension to iterate through the given string: ‘pwskills’.\n",
    "\n",
    "Expected output: ['p', 'w', 's', 'k', 'i', 'l', 'l', 's'] "
   ]
  },
  {
   "cell_type": "code",
   "execution_count": null,
   "id": "6a26ce28-131b-49ff-b0bc-cfd8f0ff6f93",
   "metadata": {},
   "outputs": [],
   "source": [
    "string = 'pwskills'\n",
    "\n",
    "result = [char for char in string if char in 'pwskills']\n",
    "\n",
    "print(result)"
   ]
  },
  {
   "cell_type": "markdown",
   "id": "48af1ad1-953d-4d1d-9c70-a1dd35016db8",
   "metadata": {},
   "source": [
    "Q9. Write a code to print odd numbers from 1 to 100 using list comprehension.\n"
   ]
  },
  {
   "cell_type": "code",
   "execution_count": null,
   "id": "a34deb44-2821-40f2-a9a5-7ba2f48acf9e",
   "metadata": {},
   "outputs": [],
   "source": [
    "odd_numbers = [num for num in range(1, 101) if num % 2 != 0]\n",
    "print(odd_numbers)"
   ]
  },
  {
   "cell_type": "code",
   "execution_count": null,
   "id": "52776885-1c15-42db-b5e1-79eb49eb693c",
   "metadata": {},
   "outputs": [],
   "source": []
  }
 ],
 "metadata": {
  "kernelspec": {
   "display_name": "Python 3 (ipykernel)",
   "language": "python",
   "name": "python3"
  },
  "language_info": {
   "codemirror_mode": {
    "name": "ipython",
    "version": 3
   },
   "file_extension": ".py",
   "mimetype": "text/x-python",
   "name": "python",
   "nbconvert_exporter": "python",
   "pygments_lexer": "ipython3",
   "version": "3.10.8"
  }
 },
 "nbformat": 4,
 "nbformat_minor": 5
}
