{
 "cells": [
  {
   "cell_type": "markdown",
   "id": "7d4b7db3-9963-4bc5-ae6e-997ee3f00155",
   "metadata": {},
   "source": [
    "Q1. How do you comment code in Python? What are the different types of comments?\n",
    "\n",
    "There are two types of comments in Python: \n",
    "1) Single-line comments:These comments are used to explain or document a specific line or block of code. They start with # and continue until the end of the line\n",
    "\n",
    "2) Multi-line comments: These comments are used for longer explanations or to temporarily disable multiple lines of code. In Python, there is no specific syntax for multi-line comments like in some other programming languages. However, you can use triple quotes (''' or \"\"\") to create multi-line strings, which can be treated as comments. "
   ]
  },
  {
   "cell_type": "markdown",
   "id": "830d2fab-8ff5-4205-9c61-c28faef93d75",
   "metadata": {},
   "source": [
    "Q2. What are variables in Python? How do you declare and assign values to variables?\n",
    "\n",
    "A variable is a named location in the computer's memory where you can store a value that can be accessed and manipulated later in the program.\n",
    "\n",
    "Syntax of Variable : variable_name = value\n",
    "\n",
    "Here are a few examples of variable declarations and assignments:\n",
    "\n",
    "name = \"Sachin\"        # Assigning a string value\n",
    "age = 21               # Assigning an integer value\n",
    "height = 1.75          # Assigning a floating-point value\n",
    "is_student = True      # Assigning a boolean value\n"
   ]
  },
  {
   "cell_type": "code",
   "execution_count": 1,
   "id": "56c0659e-2a8a-458f-a906-6a63ba96e551",
   "metadata": {},
   "outputs": [
    {
     "name": "stdout",
     "output_type": "stream",
     "text": [
      "10\n"
     ]
    }
   ],
   "source": [
    "#Q3. How do you convert one data type to another in Python? \n",
    "\n",
    "#1) int(): This function converts a value to an integer. It can be used to convert numeric strings or floating-point numbers to integers.\n",
    "\n",
    "num_str = \"10\"\n",
    "num_int = int(num_str)   # Convert a string to an integer\n",
    "print(num_int) "
   ]
  },
  {
   "cell_type": "code",
   "execution_count": 2,
   "id": "7783f798-7285-414a-a900-9c409cd74890",
   "metadata": {},
   "outputs": [
    {
     "name": "stdout",
     "output_type": "stream",
     "text": [
      "3.14\n"
     ]
    }
   ],
   "source": [
    "# example for string to float \n",
    "num_str = \"3.14\"\n",
    "num_float = float(num_str)   # Convert a string to a float\n",
    "print(num_float)   "
   ]
  },
  {
   "cell_type": "markdown",
   "id": "7c706018-698f-4ac6-8a72-0f23f2c2d62d",
   "metadata": {},
   "source": [
    "Q4. How do you write and execute a Python script from the command line\n",
    "\n",
    "Write your Python code in the text editor and save the file with a .py extension. For example, you can save the file as myscript.py\n",
    "\n",
    "python myscript.py\n"
   ]
  },
  {
   "cell_type": "code",
   "execution_count": 5,
   "id": "cd15f679-3ad5-4c2b-b12f-066da6f47236",
   "metadata": {},
   "outputs": [
    {
     "name": "stdout",
     "output_type": "stream",
     "text": [
      "[2, 3]\n"
     ]
    }
   ],
   "source": [
    "#Q5. Given a list my_list = [1, 2, 3, 4, 5], write the code to slice the list and obtain the sub-list [2, 3]\n",
    "\n",
    "my_list = [1, 2, 3, 4, 5]\n",
    "sub_list = my_list[1:3]\n",
    "print(sub_list)"
   ]
  },
  {
   "cell_type": "markdown",
   "id": "3c65f18c-cef8-4d75-a76a-17c151e796b9",
   "metadata": {},
   "source": [
    "Q6. What is a complex number in mathematics, and how is it represented in Python?\n",
    "\n",
    "In mathematics, a complex number is a number that comprises a real part and an imaginary part. It is expressed in the form a + bi, where a is the real part, b is the imaginary part, and i represents the imaginary unit, which is defined as the square root of -1.\n",
    "\n",
    "In Python, complex numbers can be represented using the complex data type. The imaginary part is denoted using the letter j instead of i. The syntax to represent a \n",
    "\n",
    "for example \n",
    "complex_num = 5+7j"
   ]
  },
  {
   "cell_type": "code",
   "execution_count": 7,
   "id": "60b5e28d-cb31-468b-8a7f-108edd4872ab",
   "metadata": {},
   "outputs": [
    {
     "name": "stdout",
     "output_type": "stream",
     "text": [
      "25\n"
     ]
    }
   ],
   "source": [
    "#Q7. What is the correct way to declare a variable named age and assign the value 25 to it\n",
    "\n",
    "age = 25 \n",
    "print(age)"
   ]
  },
  {
   "cell_type": "code",
   "execution_count": 8,
   "id": "1d420716-6864-4ee0-a16c-78cf1a92053f",
   "metadata": {},
   "outputs": [
    {
     "name": "stdout",
     "output_type": "stream",
     "text": [
      "Object `to` not found.\n"
     ]
    },
    {
     "data": {
      "text/plain": [
       "float"
      ]
     },
     "execution_count": 8,
     "metadata": {},
     "output_type": "execute_result"
    }
   ],
   "source": [
    "#Q8. Declare a variable named price and assign the value 9.99 to it. What data type does this variable \n",
    "belong to?\n",
    "\n",
    "price = 9.99\n",
    "type(price)"
   ]
  },
  {
   "cell_type": "code",
   "execution_count": null,
   "id": "58803d08-5a5a-4561-b341-a07832a41b29",
   "metadata": {},
   "outputs": [],
   "source": [
    "# 9.99 is float variable "
   ]
  },
  {
   "cell_type": "code",
   "execution_count": 9,
   "id": "5b418b1b-7318-410a-913d-8aad4730c295",
   "metadata": {},
   "outputs": [
    {
     "name": "stdout",
     "output_type": "stream",
     "text": [
      "Object `variable` not found.\n",
      "my name is sachin\n"
     ]
    }
   ],
   "source": [
    "#Q9. Create a variable named name and assign your full name to it as a string. How would you print the \n",
    "value of this variable?\n",
    "\n",
    "name = \"my name is sachin\" \n",
    "print(name)"
   ]
  },
  {
   "cell_type": "code",
   "execution_count": 10,
   "id": "d218903c-b6e7-44b1-850e-d61edb116e38",
   "metadata": {},
   "outputs": [
    {
     "name": "stdout",
     "output_type": "stream",
     "text": [
      "World\n"
     ]
    }
   ],
   "source": [
    "#Q10. Given the string \"Hello, World!\", extract the substring \"World\"\n",
    "\n",
    "string = \"Hello, World!\"\n",
    "substring = string[7:12]\n",
    "print(substring)\n"
   ]
  },
  {
   "cell_type": "code",
   "execution_count": null,
   "id": "729a9fd9-c48c-4347-93d9-266a32e784db",
   "metadata": {},
   "outputs": [],
   "source": [
    "#Q11. Create a variable named \"is_student\" and assign it a boolean value indicating whether you are \n",
    "currently a student or not.\n",
    "\n",
    "is_student = True\n",
    "is_student = False "
   ]
  }
 ],
 "metadata": {
  "kernelspec": {
   "display_name": "Python 3 (ipykernel)",
   "language": "python",
   "name": "python3"
  },
  "language_info": {
   "codemirror_mode": {
    "name": "ipython",
    "version": 3
   },
   "file_extension": ".py",
   "mimetype": "text/x-python",
   "name": "python",
   "nbconvert_exporter": "python",
   "pygments_lexer": "ipython3",
   "version": "3.10.8"
  }
 },
 "nbformat": 4,
 "nbformat_minor": 5
}
