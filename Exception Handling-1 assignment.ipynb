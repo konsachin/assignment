{
 "cells": [
  {
   "cell_type": "markdown",
   "id": "6322c8c7-13c0-4fc5-88c8-f6fc1a6b009b",
   "metadata": {},
   "source": [
    "Q.1 What is an Exception in Python? Write the difference between Exceptions and Syntax errors.\n",
    "\n",
    "Ans :- In Python, an exception is an event that occurs during the execution of a program that disrupts the normal flow of instructions. When an exception is raised, it creates an object that contains information about the error, such as its type and a traceback. The exception object can then be caught and handled by the program to prevent it from abruptly terminating.\n",
    "\n",
    "On the other hand, syntax errors are errors that occur when you write code that does not conform to the syntax rules of the Python language. These errors are detected by the Python interpreter during the parsing of the code and are usually raised before the program is executed. Syntax errors typically indicate a mistake in the structure of the code, such as missing parentheses or using an incorrect keyword.\n",
    "\n",
    "Here are the key differences between exceptions and syntax errors:\n",
    "\n",
    "Detection: Syntax errors are detected by the Python interpreter during the parsing phase, while exceptions are raised during the execution phase when an error occurs.\n",
    "\n",
    "Timing: Syntax errors prevent the program from running at all, as they are raised before any code execution takes place. Exceptions, on the other hand, can occur during runtime when a specific error condition arises.\n",
    "\n",
    "Handling: Syntax errors require you to fix the code by correcting the syntax mistake before the program can be executed. Exceptions can be caught and handled using exception handling mechanisms such as try-except blocks, allowing you to gracefully respond to errors and continue program execution.\n",
    "\n",
    "Types: Syntax errors are generally straightforward and indicate mistakes in the code structure. Exceptions, on the other hand, can come in various types, such as ValueError, TypeError, FileNotFoundError, etc., depending on the specific error condition that occurred."
   ]
  },
  {
   "cell_type": "markdown",
   "id": "0cb35353-8e64-4cac-928a-07799fdd1d09",
   "metadata": {},
   "source": [
    "Q2. What happens when an Exception is not handled? Explain with an example.\n",
    "\n",
    "Ans :- When an exception is raised but not caught and handled by the program, Python prints a traceback message that shows the sequence of function calls leading to the exception and the line of code where the exception occurred. After printing the traceback, the program exits, and any remaining code is not executed.\n",
    "\n",
    "Example :"
   ]
  },
  {
   "cell_type": "code",
   "execution_count": 1,
   "id": "9efd57fa-999f-4b66-82e3-d407880d5b02",
   "metadata": {},
   "outputs": [
    {
     "ename": "ZeroDivisionError",
     "evalue": "division by zero",
     "output_type": "error",
     "traceback": [
      "\u001b[0;31m---------------------------------------------------------------------------\u001b[0m",
      "\u001b[0;31mZeroDivisionError\u001b[0m                         Traceback (most recent call last)",
      "Cell \u001b[0;32mIn[1], line 7\u001b[0m\n\u001b[1;32m      5\u001b[0m     result \u001b[38;5;241m=\u001b[39m a \u001b[38;5;241m/\u001b[39m b\n\u001b[1;32m      6\u001b[0m     \u001b[38;5;28;01mreturn\u001b[39;00m result\n\u001b[0;32m----> 7\u001b[0m result \u001b[38;5;241m=\u001b[39m \u001b[43mdivide_numbers\u001b[49m\u001b[43m(\u001b[49m\u001b[38;5;241;43m10\u001b[39;49m\u001b[43m,\u001b[49m\u001b[43m \u001b[49m\u001b[38;5;241;43m0\u001b[39;49m\u001b[43m)\u001b[49m\n\u001b[1;32m      8\u001b[0m \u001b[38;5;28mprint\u001b[39m(\u001b[38;5;124m\"\u001b[39m\u001b[38;5;124mResult:\u001b[39m\u001b[38;5;124m\"\u001b[39m, result)\n",
      "Cell \u001b[0;32mIn[1], line 5\u001b[0m, in \u001b[0;36mdivide_numbers\u001b[0;34m(a, b)\u001b[0m\n\u001b[1;32m      4\u001b[0m \u001b[38;5;28;01mdef\u001b[39;00m \u001b[38;5;21mdivide_numbers\u001b[39m(a, b):\n\u001b[0;32m----> 5\u001b[0m     result \u001b[38;5;241m=\u001b[39m \u001b[43ma\u001b[49m\u001b[43m \u001b[49m\u001b[38;5;241;43m/\u001b[39;49m\u001b[43m \u001b[49m\u001b[43mb\u001b[49m\n\u001b[1;32m      6\u001b[0m     \u001b[38;5;28;01mreturn\u001b[39;00m result\n",
      "\u001b[0;31mZeroDivisionError\u001b[0m: division by zero"
     ]
    }
   ],
   "source": [
    "def divide_numbers(a, b):\n",
    "    result = a / b\n",
    "    return result\n",
    "def divide_numbers(a, b):\n",
    "    result = a / b\n",
    "    return result\n",
    "result = divide_numbers(10, 0)\n",
    "print(\"Result:\", result)\n"
   ]
  },
  {
   "cell_type": "markdown",
   "id": "df3e05c7-fc29-4c55-8003-4abdc09c5c68",
   "metadata": {},
   "source": [
    "Q3. Which python statements are used to catch and handle Exceptions? Explain with and example.\n",
    "\n",
    "Ans :- try-except statements are used to catch and handle exceptions. The try block contains the code that might raise an exception, and the except block specifies the actions to be taken when a specific exception is raised. If an exception occurs within the try block, it is caught by the corresponding except block, allowing you to handle the exception gracefully and continue program execution.\n",
    "\n",
    "Example :-"
   ]
  },
  {
   "cell_type": "code",
   "execution_count": 2,
   "id": "e9ebda95-1a6b-4fb8-bad4-1c25777f202b",
   "metadata": {},
   "outputs": [
    {
     "name": "stdout",
     "output_type": "stream",
     "text": [
      "Error: Cannot divide by zero!\n"
     ]
    }
   ],
   "source": [
    "def divide_numbers(a, b):\n",
    "    try:\n",
    "        result = a / b\n",
    "        print(\"Result:\", result)\n",
    "    except ZeroDivisionError:\n",
    "        print(\"Error: Cannot divide by zero!\")\n",
    "divide_numbers(10, 0)        "
   ]
  },
  {
   "cell_type": "markdown",
   "id": "f3d4887c-4696-4e05-b0ac-ddead9a8b44f",
   "metadata": {},
   "source": [
    "Q4. Explain with an example: \n",
    "    a. Try and else \n",
    "    b. finally \n",
    "    c. raise"
   ]
  },
  {
   "cell_type": "code",
   "execution_count": 3,
   "id": "36178574-70b8-446e-82cb-409fb9395ef5",
   "metadata": {},
   "outputs": [
    {
     "name": "stdout",
     "output_type": "stream",
     "text": [
      "Error: File not found!\n"
     ]
    }
   ],
   "source": [
    "#a. Try and else\n",
    "\n",
    "def open_and_read_file(file_path):\n",
    "    try:\n",
    "        file = open(file_path, 'r')\n",
    "        content = file.read()\n",
    "        print(\"File content:\", content)\n",
    "    except FileNotFoundError:\n",
    "        print(\"Error: File not found!\")\n",
    "    finally:\n",
    "        if 'file' in locals():\n",
    "            file.close()\n",
    "\n",
    "# Example: try-except-finally\n",
    "open_and_read_file('example.txt')\n",
    "\n"
   ]
  },
  {
   "cell_type": "code",
   "execution_count": 4,
   "id": "eef3e45b-0219-451b-ba83-7dedac30663c",
   "metadata": {},
   "outputs": [
    {
     "name": "stdout",
     "output_type": "stream",
     "text": [
      "Error: Cannot divide by zero!\n"
     ]
    }
   ],
   "source": [
    "#b. finally\n",
    "\n",
    "def divide_numbers(a, b):\n",
    "    if b == 0:\n",
    "        raise ZeroDivisionError(\"Error: Cannot divide by zero!\")\n",
    "    else:\n",
    "        result = a / b\n",
    "        print(\"Result:\", result)\n",
    "\n",
    "# Example: raise\n",
    "try:\n",
    "    divide_numbers(10, 0)\n",
    "except ZeroDivisionError as e:\n",
    "    print(e)\n"
   ]
  },
  {
   "cell_type": "code",
   "execution_count": 5,
   "id": "e981ca6d-12a2-49d2-a544-f3c04ab8a103",
   "metadata": {},
   "outputs": [
    {
     "name": "stdout",
     "output_type": "stream",
     "text": [
      "Error: Cannot divide by zero!\n"
     ]
    }
   ],
   "source": [
    "#c. raise\n",
    "\n",
    "def divide_numbers(a, b):\n",
    "    if b == 0:\n",
    "        raise ZeroDivisionError(\"Error: Cannot divide by zero!\")\n",
    "    else:\n",
    "        result = a / b\n",
    "        print(\"Result:\", result)\n",
    "\n",
    "# Example: raise\n",
    "try:\n",
    "    divide_numbers(10, 0)\n",
    "except ZeroDivisionError as e:\n",
    "    print(e)\n"
   ]
  },
  {
   "cell_type": "markdown",
   "id": "e192c86b-8418-4c6b-8b9f-a6b4620fb244",
   "metadata": {},
   "source": [
    "Q5. What are Custom Exceptions in Python? Why do we need custom Exceptions? Explain with an example.\n",
    "\n",
    "Ans:- Custom exceptions in Python are user-defined exception classes that inherit from the base Exception class or one of its subclasses. They allow you to define and raise your own exceptions to handle specific error conditions in your code. Custom exceptions help in making your code more organized, modular, and maintainable."
   ]
  },
  {
   "cell_type": "code",
   "execution_count": 6,
   "id": "77c9cd12-5489-40a8-afbe-30b0edcbf0df",
   "metadata": {},
   "outputs": [
    {
     "name": "stdout",
     "output_type": "stream",
     "text": [
      "Insufficient balance!\n"
     ]
    }
   ],
   "source": [
    "class WithdrawalError(Exception):\n",
    "    pass\n",
    "\n",
    "class BankAccount:\n",
    "    def __init__(self, balance):\n",
    "        self.balance = balance\n",
    "\n",
    "    def withdraw(self, amount):\n",
    "        if amount > self.balance:\n",
    "            raise WithdrawalError(\"Insufficient balance!\")\n",
    "        else:\n",
    "            self.balance -= amount\n",
    "            print(\"Withdrawal successful. Remaining balance:\", self.balance)\n",
    "\n",
    "# Example: Custom exception\n",
    "try:\n",
    "    account = BankAccount(1000)\n",
    "    account.withdraw(1500)\n",
    "except WithdrawalError as e:\n",
    "    print(e)\n"
   ]
  },
  {
   "cell_type": "code",
   "execution_count": null,
   "id": "63c10b96-7afb-43b6-8d43-1400f50de04d",
   "metadata": {},
   "outputs": [],
   "source": []
  }
 ],
 "metadata": {
  "kernelspec": {
   "display_name": "Python 3 (ipykernel)",
   "language": "python",
   "name": "python3"
  },
  "language_info": {
   "codemirror_mode": {
    "name": "ipython",
    "version": 3
   },
   "file_extension": ".py",
   "mimetype": "text/x-python",
   "name": "python",
   "nbconvert_exporter": "python",
   "pygments_lexer": "ipython3",
   "version": "3.10.8"
  }
 },
 "nbformat": 4,
 "nbformat_minor": 5
}
