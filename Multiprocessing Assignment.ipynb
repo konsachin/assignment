{
 "cells": [
  {
   "cell_type": "markdown",
   "id": "4431532d-2767-4938-a008-7019e8050903",
   "metadata": {},
   "source": [
    "Q1. What is multiprocessing in python? Why is it useful?\n",
    "\n",
    "Multiprocessing in Python refers to the ability to run multiple processes concurrently, where each process has its own memory space and runs independently. It allows the execution of multiple tasks or computations simultaneously on different processors or cores of a computer.\n",
    "\n",
    "Python's multiprocessing module provides a high-level interface for creating and managing multiple processes. It allows you to leverage the full potential of multi-core CPUs and distribute the workload across multiple processors, thereby improving performance and efficiency.\n",
    "\n",
    "Here are some reasons why multiprocessing is useful:\n",
    "1)Parallel Execution: \n",
    "2)Improved Performance:\n",
    "3)Enhanced Responsiveness:\n",
    "4)Isolation and Resource Management:\n",
    "5)Compatibility with External Libraries: "
   ]
  },
  {
   "cell_type": "markdown",
   "id": "62e792f8-4725-454d-b71c-dd42dc012c7d",
   "metadata": {},
   "source": [
    "Q2. What are the differences between multiprocessing and multithreading?\n",
    "\n",
    "Execution Model:\n",
    "\n",
    "Multiprocessing: In multiprocessing, multiple processes are created, where each process has its own memory space and runs independently. Processes do not share memory by default and communicate through inter-process communication (IPC) mechanisms like pipes, queues, or shared memory.\n",
    "Multithreading: In multithreading, multiple threads are created within a single process, and they share the same memory space. Threads run concurrently within the process and can communicate directly by accessing shared variables and data structures.\n",
    "\n",
    "Resource Allocation:\n",
    "\n",
    "Multiprocessing: Each process in multiprocessing has its own memory space and system resources. This includes a separate instance of the Python interpreter and memory allocation. Processes generally have higher memory overhead compared to threads.\n",
    "Multithreading: Threads within a process share the same memory space and system resources. They can access and modify shared data directly. Threads have lower memory overhead compared to processes since they share resources.\n",
    "\n",
    "Parallelism:\n",
    "\n",
    "Multiprocessing: Multiprocessing is capable of true parallelism, utilizing multiple processors or CPU cores to execute tasks simultaneously. Each process runs on a separate processor, allowing for efficient utilization of available resources. Processes execute independently of each other.\n",
    "Multithreading: Multithreading achieves concurrency but not necessarily true parallelism. Threads run within a single process and share the same CPU core, taking turns in execution via context switching. Multithreading can still offer performance improvements through efficient task scheduling and utilization of idle CPU time, but it may not utilize multiple processors fully.\n",
    "\n",
    "Complexity and Overhead:\n",
    "\n",
    "Multiprocessing: Managing multiple processes can involve more overhead and complexity due to the need for inter-process communication and synchronization. Processes require explicit communication mechanisms like pipes or queues to exchange data.\n",
    "Multithreading: Managing threads is generally less complex since they share memory and can communicate directly. However, multithreading introduces challenges such as race conditions and the need for synchronization mechanisms like locks or semaphores to coordinate access to shared data.\n",
    "\n",
    "Fault Isolation:\n",
    "\n",
    "Multiprocessing: Due to separate memory spaces, a failure or crash in one process does not impact others. Each process operates independently, providing better fault isolation.\n",
    "Multithreading: Threads share the same memory space, so a crash or error in one thread can potentially affect the entire process, leading to instability."
   ]
  },
  {
   "cell_type": "code",
   "execution_count": 1,
   "id": "436ff5f5-68ee-4884-876b-54a79645ac1d",
   "metadata": {},
   "outputs": [
    {
     "name": "stdout",
     "output_type": "stream",
     "text": [
      "Worker process executing\n",
      "Main process executing after the worker process\n"
     ]
    }
   ],
   "source": [
    "#Q3. Write a python code to create a process using the multiprocessing module.\n",
    "\n",
    "import multiprocessing\n",
    "\n",
    "def worker():\n",
    "    \"\"\"Function to be executed by the process\"\"\"\n",
    "    print(\"Worker process executing\")\n",
    "if __name__ == \"__main__\":\n",
    "    process = multiprocessing.Process(target=worker)\n",
    "    \n",
    "process.start()\n",
    "process.join()\n",
    "print(\"Main process executing after the worker process\")"
   ]
  },
  {
   "cell_type": "markdown",
   "id": "099c8b74-c327-45f8-8c73-c9692bf871aa",
   "metadata": {},
   "source": [
    "Q4. What is a multiprocessing pool in python? Why is it used?\n",
    "\n",
    "Here are some reasons why multiprocessing pools are used:\n",
    "\n",
    "1)Parallel Execution: The primary purpose of a multiprocessing pool is to achieve parallel execution of tasks. By utilizing multiple processes in the pool, it can perform tasks concurrently, distributing the workload among the available workers. This can significantly speed up the execution of CPU-bound or computationally intensive tasks.\n",
    "\n",
    "2)Efficient Resource Utilization: Multiprocessing pools make efficient use of available system resources, such as CPU cores. Instead of creating a separate process for each task, a pool manages a fixed number of worker processes. These processes can handle multiple tasks over time, avoiding the overhead of process creation and termination for each individual task.\n",
    "\n",
    "3)Simplified Task Management: The multiprocessing pool abstracts away the complexities of managing multiple processes. It provides a simple interface for submitting tasks and retrieving their results. Tasks can be submitted asynchronously, and the pool takes care of scheduling them for execution and returning the results in the order of completion.\n",
    "\n",
    "4)Task Distribution and Load Balancing: The pool automatically distributes tasks among the available worker processes. This load balancing ensures that the workload is evenly distributed across the processes, optimizing the utilization of resources and preventing bottlenecks.\n",
    "\n",
    "5)Result Collection and Ordering: When tasks are executed in the pool, it collects the results and returns them in an orderly fashion. The results are typically retrieved using iterator-based methods, such as map() or imap(), which return the results in the same order as the input tasks. This simplifies result handling and allows for easy post-processing."
   ]
  },
  {
   "cell_type": "code",
   "execution_count": 2,
   "id": "8f807d4f-e90b-4bb3-990c-affb07c8f069",
   "metadata": {},
   "outputs": [
    {
     "name": "stdout",
     "output_type": "stream",
     "text": [
      "[2, 4, 6, 8, 10]\n"
     ]
    }
   ],
   "source": [
    "#Q5. How can we create a pool of worker processes in python using the multiprocessing module?\n",
    "\n",
    "import multiprocessing\n",
    "\n",
    "def worker_task(task):\n",
    "    \"\"\"Function representing the task to be executed by each worker\"\"\"\n",
    "    result = task * 2\n",
    "    return result\n",
    "\n",
    "if __name__ == \"__main__\":\n",
    "    \n",
    "    pool = multiprocessing.Pool(processes=4)\n",
    "\n",
    "    # Define a list of tasks\n",
    "    tasks = [1, 2, 3, 4, 5]\n",
    "\n",
    "    \n",
    "    results = pool.map(worker_task, tasks)\n",
    "\n",
    "  \n",
    "    pool.close()\n",
    "\n",
    "   \n",
    "    pool.join()\n",
    "\n",
    "    \n",
    "    print(results)\n"
   ]
  },
  {
   "cell_type": "code",
   "execution_count": null,
   "id": "f8dfb026-7835-40bb-b3dd-c01c2bd9e1df",
   "metadata": {},
   "outputs": [],
   "source": [
    "#Q6. Write a python program to create 4 processes, each process should print a different number using the\n",
    "#multiprocessing module in python."
   ]
  }
 ],
 "metadata": {
  "kernelspec": {
   "display_name": "Python 3 (ipykernel)",
   "language": "python",
   "name": "python3"
  },
  "language_info": {
   "codemirror_mode": {
    "name": "ipython",
    "version": 3
   },
   "file_extension": ".py",
   "mimetype": "text/x-python",
   "name": "python",
   "nbconvert_exporter": "python",
   "pygments_lexer": "ipython3",
   "version": "3.10.8"
  }
 },
 "nbformat": 4,
 "nbformat_minor": 5
}
