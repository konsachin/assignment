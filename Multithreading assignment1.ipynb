{
 "cells": [
  {
   "cell_type": "markdown",
   "id": "e5ff5bf1-cfc7-41a2-8c40-83fd6ce8fe17",
   "metadata": {},
   "source": [
    "1). what is multithreading in python? hy is it used? Name the module used to handle threads in python\n",
    "\n",
    "Ans :- Multithreading in Python refers to the ability of a program to simultaneously execute multiple threads (smaller units of a program) within a single process. Each thread runs independently, allowing different parts of a program to be executed concurrently. This concurrency can improve the performance and responsiveness of certain types of applications.\n",
    "\n",
    "Multithreading is used in Python to achieve parallelism, where multiple tasks are executed simultaneously. It is particularly useful in scenarios where there are tasks that can run independently or tasks that involve waiting for external resources, such as input/output operations or network requests. By utilizing multiple threads, the program can continue executing other tasks while waiting for these operations to complete, thus improving overall efficiency.\n",
    "\n",
    "Python provides a built-in module called threading to handle threads. The threading module offers a high-level, object-oriented interface for creating and managing threads in Python. It provides functions and classes for creating new threads, synchronizing thread execution, and managing thread behavior. With the threading module, you can create threads, start them, stop them, and coordinate their execution."
   ]
  },
  {
   "cell_type": "markdown",
   "id": "49507113-4669-4173-9123-8848773075d8",
   "metadata": {},
   "source": [
    "Q2. why threading module used? rite the use of the following functions :\n",
    " activeCount()\n",
    " currentThread()\n",
    " enumerate()\n",
    " \n",
    " Ans :-The threading module in Python is used for creating and managing threads within a program. It provides a high-level interface for working with threads and offers various functions and classes to handle thread-related operations.\n",
    " \n",
    "1)activeCount(): This function returns the number of Thread objects currently alive. It can be used to determine the number of active threads at any given point in your program. For example:\n",
    "\n",
    "2)currentThread(): This function returns the currently executing Thread object. It can be used to obtain information about the thread in which the function is being called. \n",
    "\n",
    "3)enumerate(): This function returns a list of all active Thread objects currently alive. Each Thread object represents a separate thread in the program. It can be used to obtain a list of all running threads and perform operations on them."
   ]
  },
  {
   "cell_type": "markdown",
   "id": "2b485aed-f5d3-4af4-ac0e-f56cbb96046f",
   "metadata": {},
   "source": [
    "Q3. Explain the following functions\n",
    " run()\n",
    " start()\n",
    " join()\n",
    " isAlive()"
   ]
  },
  {
   "cell_type": "markdown",
   "id": "8789e8f4-718b-4e60-9304-02fe0e86778c",
   "metadata": {},
   "source": [
    "1.run(): This method is used to define the behavior of a thread when it is executed. It is typically overridden in a subclass of the Thread class. The run() method contains the code that will be executed in the thread. When you create a thread object and call its start() method, it automatically calls the run() method internally to execute the thread's code. \n",
    "\n",
    "2.start(): This method is used to start the execution of a thread. When you call the start() method on a thread object, it allocates system resources and schedules the thread to be run. The start() method initiates a new thread and invokes the run() method of that thread. It allows the thread to run concurrently with other threads.\n",
    "\n",
    "3.join(): This method is used to wait for a thread to complete its execution. When you call the join() method on a thread, the calling thread (usually the main thread) will wait until the specified thread has finished executing. It allows for synchronization between threads, ensuring that one thread waits for another to finish before proceeding\n",
    "\n",
    "4.isAlive(): This method is used to check whether a thread is currently executing or not. It returns True if the thread is still running, and False otherwise."
   ]
  },
  {
   "cell_type": "code",
   "execution_count": 1,
   "id": "33d29860-238e-48ea-b143-f97b6c8beaf6",
   "metadata": {},
   "outputs": [
    {
     "name": "stdout",
     "output_type": "stream",
     "text": [
      "List of squares: [1, 4, 9, 16, 25]\n",
      "List of cubes: [1, 8, 27, 64, 125]\n"
     ]
    }
   ],
   "source": [
    "#Q4. write a python program to create two threads. Thread one must print the list of squares and thread two must print the list of cubes\n",
    "\n",
    "\n",
    "import threading\n",
    "\n",
    "def print_squares():\n",
    "    squares = [x**2 for x in range(1, 6)]\n",
    "    print(\"List of squares:\", squares)\n",
    "\n",
    "def print_cubes():\n",
    "    cubes = [x**3 for x in range(1, 6)]\n",
    "    print(\"List of cubes:\", cubes)\n",
    "    \n",
    "thread1 = threading.Thread(target=print_squares)  \n",
    "thread2 = threading.Thread(target=print_cubes)\n",
    "\n",
    "thread1.start()\n",
    "thread2.start()\n",
    "    "
   ]
  },
  {
   "cell_type": "markdown",
   "id": "7917de06-fc8d-48b2-ba5d-ec2949cbc6ca",
   "metadata": {},
   "source": [
    "Q5. State advantages and disadvantages of multithreading\n",
    "\n",
    "Advantages of Multithreading:\n",
    "\n",
    "1)Concurrency and Responsiveness: Multithreading enables concurrent execution of multiple tasks, allowing a program to be more responsive. By executing tasks in parallel, the program can continue performing other operations while waiting for input/output or long-running tasks.\n",
    "\n",
    "2)Improved Performance: Multithreading can improve performance by utilizing the available system resources more efficiently. It allows for better utilization of multiple CPU cores and enables parallel execution of tasks, leading to faster execution times for certain types of computations.\n",
    "\n",
    "3)Simplified Program Structure: Multithreading can simplify the program structure by separating different tasks into independent threads. Each thread can focus on a specific task, making the code more modular and easier to understand and maintain.\n",
    "\n",
    "4)Shared Memory Access: Threads within the same process can share memory, which enables efficient communication and data sharing between threads. This eliminates the need for complex inter-process communication mechanisms.\n",
    "\n",
    "\n",
    "Multithreading in programming brings several advantages and disadvantages. Let's explore them:\n",
    "\n",
    "Advantages of Multithreading:\n",
    "\n",
    "Concurrency and Responsiveness: Multithreading enables concurrent execution of multiple tasks, allowing a program to be more responsive. By executing tasks in parallel, the program can continue performing other operations while waiting for input/output or long-running tasks.\n",
    "\n",
    "Improved Performance: Multithreading can improve performance by utilizing the available system resources more efficiently. It allows for better utilization of multiple CPU cores and enables parallel execution of tasks, leading to faster execution times for certain types of computations.\n",
    "\n",
    "Simplified Program Structure: Multithreading can simplify the program structure by separating different tasks into independent threads. Each thread can focus on a specific task, making the code more modular and easier to understand and maintain.\n",
    "\n",
    "Shared Memory Access: Threads within the same process can share memory, which enables efficient communication and data sharing between threads. This eliminates the need for complex inter-process communication mechanisms.\n",
    "\n",
    "Disadvantages of Multithreading:\n",
    "\n",
    "1)Complexity and Difficult Debugging: Multithreaded programs can be complex to design and debug. Handling shared resources, synchronizing access to shared data, and avoiding race conditions require careful planning and synchronization mechanisms, such as locks or semaphores. Debugging multithreaded programs can be challenging due to issues like deadlocks, race conditions, and thread synchronization errors.\n",
    "\n",
    "2)Increased Memory Usage: Each thread within a program requires its own stack space. Consequently, multithreaded programs can consume more memory compared to single-threaded programs, as memory is allocated for each thread's stack.\n",
    "\n",
    "3)Potential Performance Degradation: In some cases, multithreading can lead to performance degradation. This can happen when threads contend for shared resources, leading to increased overhead due to synchronization mechanisms or increased context switching. Additionally, improper thread management or excessive creation of threads can introduce overhead and degrade performance.\n",
    "\n",
    "4)Difficulty in Parallelizing Certain Tasks: Not all tasks can benefit from multithreading. Some tasks are inherently sequential and cannot be easily parallelized. In such cases, multithreading may not provide significant performance gains and can even introduce additional overhead.\n"
   ]
  },
  {
   "cell_type": "code",
   "execution_count": null,
   "id": "93084a70-dce8-4354-9eb0-45b620c13a24",
   "metadata": {},
   "outputs": [],
   "source": [
    "Q5.Explain deadlocks and race conditions."
   ]
  }
 ],
 "metadata": {
  "kernelspec": {
   "display_name": "Python 3 (ipykernel)",
   "language": "python",
   "name": "python3"
  },
  "language_info": {
   "codemirror_mode": {
    "name": "ipython",
    "version": 3
   },
   "file_extension": ".py",
   "mimetype": "text/x-python",
   "name": "python",
   "nbconvert_exporter": "python",
   "pygments_lexer": "ipython3",
   "version": "3.10.8"
  }
 },
 "nbformat": 4,
 "nbformat_minor": 5
}
